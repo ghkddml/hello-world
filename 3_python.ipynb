{
  "nbformat": 4,
  "nbformat_minor": 0,
  "metadata": {
    "colab": {
      "name": "Untitled4.ipynb",
      "provenance": [],
      "collapsed_sections": [],
      "authorship_tag": "ABX9TyPJs3a1F+0H2dNcXDGub17g",
      "include_colab_link": true
    },
    "kernelspec": {
      "name": "python3",
      "display_name": "Python 3"
    }
  },
  "cells": [
    {
      "cell_type": "markdown",
      "metadata": {
        "id": "view-in-github",
        "colab_type": "text"
      },
      "source": [
        "<a href=\"https://colab.research.google.com/github/ghkddml/hello-world/blob/master/3_python.ipynb\" target=\"_parent\"><img src=\"https://colab.research.google.com/assets/colab-badge.svg\" alt=\"Open In Colab\"/></a>"
      ]
    },
    {
      "cell_type": "code",
      "metadata": {
        "id": "YwL3wzRAxclj",
        "colab_type": "code",
        "colab": {}
      },
      "source": [
        "import requests\n",
        "res = requests.get(\"http://google.com\")\n",
        "res.raise_for_status()\n",
        "with open(\"mygoogle.html\", \"w\", encoding=\"utf8\") as f:\n",
        "  f.write(res.text)"
      ],
      "execution_count": null,
      "outputs": []
    }
  ]
}