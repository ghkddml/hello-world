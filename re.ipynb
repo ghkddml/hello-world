{
  "nbformat": 4,
  "nbformat_minor": 0,
  "metadata": {
    "colab": {
      "name": "Untitled4.ipynb의 사본",
      "provenance": [],
      "collapsed_sections": [],
      "authorship_tag": "ABX9TyMnMfLL/O/FDKPIVxu61D9m",
      "include_colab_link": true
    },
    "kernelspec": {
      "name": "python3",
      "display_name": "Python 3"
    }
  },
  "cells": [
    {
      "cell_type": "markdown",
      "metadata": {
        "id": "view-in-github",
        "colab_type": "text"
      },
      "source": [
        "<a href=\"https://colab.research.google.com/github/ghkddml/hello-world/blob/master/re.ipynb\" target=\"_parent\"><img src=\"https://colab.research.google.com/assets/colab-badge.svg\" alt=\"Open In Colab\"/></a>"
      ]
    },
    {
      "cell_type": "code",
      "metadata": {
        "id": "YwL3wzRAxclj",
        "colab_type": "code",
        "colab": {}
      },
      "source": [
        "import requests\n",
        "\n",
        "res = requests.get(\"http://google.com\")\n",
        "res.raise_for_status()\n",
        "with open(\"mygoogle.html\", \"w\", encoding=\"utf8\") as f:\n",
        "  f.write(res.text)\n",
        "\n"
      ],
      "execution_count": 5,
      "outputs": []
    },
    {
      "cell_type": "code",
      "metadata": {
        "id": "mjL5sdpz2aWq",
        "colab_type": "code",
        "colab": {}
      },
      "source": [
        "def print_match(m):\n",
        "  if m:\n",
        "    print(m.group()) # 매치되지 않으면 에러 발생\n",
        "    print(m.string)\n",
        "    print(m.start())\n",
        "    print(m.end())\n",
        "    print(m.span())\n",
        "\n",
        "  else :\n",
        "    print('매치 되지 않음')\n",
        "\n",
        "\n",
        "import re\n",
        "\n",
        "\n",
        "# . : 하나의 문자를 의미   \n",
        "# ^ (^de) : 문자열의 시작 > desk, destination | fade(x) \n",
        "# $ (se$) : 문자열의 끝 > case, base, | face(x) \n",
        "\n",
        "\n",
        "p = re.compile(\"ca.e\")  # 원하는 형태\n",
        "m1 = p.match(\"care\")  # 비교할 문자열\n",
        "m2 = p.search(\"careless\") # 비교할 문자열 \n",
        "m3 = p.findall(\"careless\") # 비교할 문자열 ,일치하는 모든 것을 리스트로 반환\n",
        "\n",
        "print_match(m1)\n",
        "print_match(m2)\n",
        "print(m3)"
      ],
      "execution_count": null,
      "outputs": []
    },
    {
      "cell_type": "code",
      "metadata": {
        "id": "HPPiq6F87XNH",
        "colab_type": "code",
        "colab": {}
      },
      "source": [
        "import requests\n",
        "headers = {\"User_Agent\" :\"Mozilla/5.0 (Linux; Android 9; SM-N950N) AppleWebKit/537.36 (KHTML, like Gecko) Chrome/85.0.4183.101 Safari/537.36\"}\n",
        "url = \"http://nadocoding.tistory.com\"\n",
        "# res = requests.get(\"http://google.com\")\n",
        "res = requests.get(url, headers=headers)\n",
        "res.raise_for_status()\n",
        "with open(\"nadocoding.html\", \"w\", encoding=\"utf8\") as f:\n",
        "  f.write(res.text)"
      ],
      "execution_count": 30,
      "outputs": []
    },
    {
      "cell_type": "code",
      "metadata": {
        "id": "dYJijqrO9Yu4",
        "colab_type": "code",
        "colab": {}
      },
      "source": [
        "# lxml 설치\n",
        "# BeautifulSoup\n",
        "\n",
        "import requests\n",
        "from bs4 import BeautifulSoup\n",
        "\n",
        "headers = {\"User_Agent\" :\"Mozilla/5.0 (Linux; Android 9; SM-N950N) AppleWebKit/537.36 (KHTML, like Gecko) Chrome/85.0.4183.101 Safari/537.36\"}\n",
        "# url = \"http://nadocoding.tistory.com\"\n",
        "url = \"https://comic.naver.com/webtoon/weekday.nhn\"\n",
        "# res = requests.get(\"http://google.com\")\n",
        "res = requests.get(url, headers=headers)\n",
        "res.raise_for_status()\n",
        "# with open(\"nadocoding.html\", \"w\", encoding=\"utf8\") as f:\n",
        "#   f.write(res.text)\n",
        "\n",
        "soup = BeautifulSoup(res.text, \"lxml\")\n",
        "# print(soup.title)\n",
        "# print(soup.title.get_text())\n",
        "# print(soup.a.attrs)\n",
        "# print(soup.a)   # soup 객체에서 처음 발견되는 a element 호출\n",
        "# print(soup.a.get_text())\n",
        "# print(soup.a[\"href\"])\n",
        "# print(soup.find(\"a\", attrs={\"class\":\"Nbtn_upload\"}))\n",
        "# print(soup.find_all(\"a\"))\n",
        "rank1  = soup.find(\"li\", attrs={\"class\":\"rank01\"})\n",
        "# print(rank1.a)\n",
        "# print(rank1.next_sibling)\n",
        "print(rank1.next_sibling.next_sibling)\n",
        "rank2 = rank1.parent\n",
        "print(rank2)\n"
      ],
      "execution_count": null,
      "outputs": []
    }
  ]
}